{
 "cells": [
  {
   "cell_type": "markdown",
   "metadata": {},
   "source": [
    "# micro:bit"
   ]
  },
  {
   "cell_type": "markdown",
   "metadata": {},
   "source": [
    "## 下雨"
   ]
  },
  {
   "cell_type": "code",
   "execution_count": null,
   "metadata": {},
   "outputs": [],
   "source": [
    "from microbit import *\n",
    "from random import randint\n",
    "\n",
    "listA = []\n",
    "  \n",
    "for i in range(5):\n",
    "  listA.append(randint(0,10))\n",
    "  \n",
    "while True:\n",
    "  for i in range(5):\n",
    "    display.set_pixel(0, 4-i, listA[i]) \n",
    "  sleep(200)\n",
    "  listA.pop(0)\n",
    "  listA.append(randint(0,10))"
   ]
  },
  {
   "cell_type": "markdown",
   "metadata": {},
   "source": [
    "## 搖一下改變卦象"
   ]
  },
  {
   "cell_type": "code",
   "execution_count": null,
   "metadata": {},
   "outputs": [],
   "source": [
    "from microbit import *\n",
    "from random import choice\n",
    "\n",
    "yao = [\"99999\",\"99099\"]\n",
    "\n",
    "while True:\n",
    "  if accelerometer.was_gesture(\"shake\"):\n",
    "    yao_list = []\n",
    "    for i in range(3):\n",
    "      yao_list.append(choice(yao))\n",
    "\n",
    "    hex_str = \":00000:\".join(yao_list) \n",
    "    hexagram = Image(hex_str)\n",
    "    display.show(hexagram)"
   ]
  }
 ],
 "metadata": {
  "kernelspec": {
   "display_name": "Python 3",
   "language": "python",
   "name": "python3"
  },
  "language_info": {
   "codemirror_mode": {
    "name": "ipython",
    "version": 3
   },
   "file_extension": ".py",
   "mimetype": "text/x-python",
   "name": "python",
   "nbconvert_exporter": "python",
   "pygments_lexer": "ipython3",
   "version": "3.7.3"
  }
 },
 "nbformat": 4,
 "nbformat_minor": 2
}
