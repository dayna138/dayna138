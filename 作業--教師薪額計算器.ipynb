{
 "cells": [
  {
   "cell_type": "code",
   "execution_count": 26,
   "metadata": {},
   "outputs": [],
   "source": [
    "from ipywidgets import interact_manual"
   ]
  },
  {
   "cell_type": "code",
   "execution_count": 29,
   "metadata": {},
   "outputs": [],
   "source": [
    "def salCaculator(年資, 學歷, 職務):\n",
    "\n",
    "        \n",
    "    if 學歷 == '博士':\n",
    "        年資 = 年資+10\n",
    "    if 學歷 == '碩士':\n",
    "        年資 = 年資+5\n",
    "    if 年資 <= 4:\n",
    "        bp = 22435+年資*685\n",
    "    elif 年資 <= 16:\n",
    "        bp = 26210+(年資-5)*1030\n",
    "    else:\n",
    "        bp = 40270+(年資-17)*1370\n",
    "    if (學歷 == '博士') and (bp >= 51250):\n",
    "        bp = 51250    \n",
    "    if (學歷 == '碩士') and (bp >= 49875):\n",
    "        bp = 49875 \n",
    "    if (學歷 == '學士') and (bp >= 48505):\n",
    "        bp = 48505    \n",
    "\n",
    "\n",
    "        \n",
    "\n",
    "    if (職務 == '校長') or ((bp >= 37530) and (學歷 !='學士')):\n",
    "        arp = 32100\n",
    "    elif bp >= 31355:\n",
    "        arp=27040\n",
    "    elif bp >= 25175:\n",
    "        arp=23820\n",
    "    else:\n",
    "        arp=20700\n",
    "    \n",
    "    if 職務 =='專任教師':\n",
    "        allow = 0\n",
    "    if 職務 =='導師':\n",
    "        allow = 3000\n",
    "    if 職務 =='校長':\n",
    "        allow = 8970\n",
    "    if 職務 =='兼任主任':\n",
    "        allow = 5300\n",
    "    if 職務 =='兼任組長':\n",
    "        if bp >= 29295:\n",
    "            allow = 5300\n",
    "        elif bp >= 26210:\n",
    "            allow = 4350\n",
    "        else:\n",
    "            allow = 3860\n",
    "    \n",
    "    print('您的月薪約為',bp+arp+allow,'元')\n",
    "    "
   ]
  },
  {
   "cell_type": "code",
   "execution_count": 30,
   "metadata": {},
   "outputs": [
    {
     "data": {
      "application/vnd.jupyter.widget-view+json": {
       "model_id": "52409821cd294c6ea13f8677ea756df5",
       "version_major": 2,
       "version_minor": 0
      },
      "text/plain": [
       "interactive(children=(Dropdown(description='年資', options=(0, 1, 2, 3, 4, 5, 6, 7, 8, 9, 10, 11, 12, 13, 14, 15…"
      ]
     },
     "metadata": {},
     "output_type": "display_data"
    }
   ],
   "source": [
    "interact_manual(salCaculator, 年資=range(0,31), 學歷={'博士','碩士','學士'}, 職務={'專任教師','導師','兼任組長','兼任主任','校長'});    "
   ]
  },
  {
   "cell_type": "code",
   "execution_count": null,
   "metadata": {},
   "outputs": [],
   "source": []
  }
 ],
 "metadata": {
  "kernelspec": {
   "display_name": "Python 3",
   "language": "python",
   "name": "python3"
  },
  "language_info": {
   "codemirror_mode": {
    "name": "ipython",
    "version": 3
   },
   "file_extension": ".py",
   "mimetype": "text/x-python",
   "name": "python",
   "nbconvert_exporter": "python",
   "pygments_lexer": "ipython3",
   "version": "3.7.3"
  }
 },
 "nbformat": 4,
 "nbformat_minor": 2
}
