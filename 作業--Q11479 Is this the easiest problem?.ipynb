{
 "cells": [
  {
   "cell_type": "code",
   "execution_count": 1,
   "metadata": {},
   "outputs": [
    {
     "name": "stdout",
     "output_type": "stream",
     "text": [
      "5\n",
      "1 2 5\n",
      "Invalid 無法組成三角形\n",
      "1 1 1\n",
      "Equilateral 等邊三角形\n",
      "4 4 2\n",
      "Isosceles 等腰三角形\n",
      "3 4 5\n",
      "Scalene 不等邊三角形\n",
      "2147483647 2147483647 2147483647\n",
      "Equilateral 等邊三角形\n"
     ]
    }
   ],
   "source": [
    "testcase=int(input())\n",
    "\n",
    "while testcase>0:\n",
    "    testcase=testcase-1\n",
    "    triangle=input()\n",
    "    newtriangle=triangle.split(' ')\n",
    "    t2=list(map(int,list(newtriangle)))\n",
    "    a=t2[0]\n",
    "    b=t2[1]\n",
    "    c=t2[2]\n",
    "        \n",
    "    if a+b<c or a+c<b or b+c<a:\n",
    "        print('Invalid 無法組成三角形')\n",
    "    elif a==b==c:\n",
    "        print('Equilateral 等邊三角形')\n",
    "    elif a==b or b==c or a==c:\n",
    "        print('Isosceles 等腰三角形')\n",
    "    else:\n",
    "        print('Scalene 不等邊三角形')\n"
   ]
  }
 ],
 "metadata": {
  "kernelspec": {
   "display_name": "Python 3",
   "language": "python",
   "name": "python3"
  },
  "language_info": {
   "codemirror_mode": {
    "name": "ipython",
    "version": 3
   },
   "file_extension": ".py",
   "mimetype": "text/x-python",
   "name": "python",
   "nbconvert_exporter": "python",
   "pygments_lexer": "ipython3",
   "version": "3.7.3"
  }
 },
 "nbformat": 4,
 "nbformat_minor": 2
}
