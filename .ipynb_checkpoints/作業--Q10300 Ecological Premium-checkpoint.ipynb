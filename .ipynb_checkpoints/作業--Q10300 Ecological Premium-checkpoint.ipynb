{
 "cells": [
  {
   "cell_type": "code",
   "execution_count": 17,
   "metadata": {},
   "outputs": [
    {
     "name": "stdout",
     "output_type": "stream",
     "text": [
      "3\n",
      "5\n",
      "1 1 1\n",
      "2 2 2\n",
      "3 3 3\n",
      "2 3 4\n",
      "8 9 2\n",
      "3 \n",
      "9 1 8\n",
      "6 12 1\n",
      "8 1 1\n",
      "3\n",
      "10 30 40\n",
      "9 8 5\n",
      "100 1000 70\n",
      "38\n",
      "86\n",
      "7445\n"
     ]
    }
   ],
   "source": [
    "testcase=int(input())\n",
    "M = []\n",
    "\n",
    "while testcase>0:\n",
    "    testcase=testcase-1\n",
    "    farmer=int(input())\n",
    "    total = []\n",
    "    \n",
    "    \n",
    "    while farmer > 0:\n",
    "        farmer=farmer-1\n",
    "        farm = input()\n",
    "        a,b,c = map(int, farm.split())\n",
    "\n",
    "        money = a*c\n",
    "        total.append(money)\n",
    "   \n",
    "    M.append(sum(total))\n",
    "\n",
    "for i in range(len(M)):\n",
    "    print(M[i])\n",
    "\n"
   ]
  },
  {
   "cell_type": "code",
   "execution_count": null,
   "metadata": {},
   "outputs": [],
   "source": []
  }
 ],
 "metadata": {
  "kernelspec": {
   "display_name": "Python 3",
   "language": "python",
   "name": "python3"
  }
 },
 "nbformat": 4,
 "nbformat_minor": 2
}
