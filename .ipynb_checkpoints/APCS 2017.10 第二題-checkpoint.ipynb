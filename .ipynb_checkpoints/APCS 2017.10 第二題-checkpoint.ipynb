{
 "cells": [
  {
   "cell_type": "markdown",
   "metadata": {},
   "source": [
    "## 交錯字串 (Alternating Strings)\n",
    "\n",
    "#### 問題描述\n",
    "\n",
    "#### 一個字串如果全由大寫英文字母組成，我們稱為大寫字串；如果全由小寫字母組成\n",
    "\n",
    "#### 則稱為小寫字串。字串的長度是它所包含字母的個數，在本題中，字串均由大小寫英文字\n",
    "\n",
    "母組成。假設k是一個自然數，一個字串被稱為「k-交錯字串｣，如果它是由長度為k的\n",
    "大寫字串與長度為k的小寫字串交錯串接組成。\n",
    "舉例來說，「 StRiNg｣是一個1-交錯字串，因為它是一個大寫一個小寫交替出現；而\n",
    "「heLLow｣是一個 2-交錯字串，因為它是兩個小寫接兩個大寫再接兩個小寫。但不管 k\n",
    "是多少，「aBBaaa｣、「 BaBaBB｣ 、「 aaaAAbbCCCC｣都不是k-交錯字串。\n",
    "本題的目標是對於給定k值，在一個輸入字串找出最長一段連續子字串滿足k-交錯\n",
    "字串的要求。例如k=2且輸入「aBBaaa｣，最長的k-交錯字串是「BBaa｣，長度為 4 。又\n",
    "如k=1且輸入「BaBaBB｣，最長的k-交錯字串是「BaBaB｣，長度為 5 。\n",
    "請注意，滿足條件的子字串可能只包含一段小寫或大寫字母而無交替，如範例二。\n",
    "此外，也可能不存在滿足條件的子字串，如範例四。\n",
    "\n",
    "輸入格式\n",
    "輸入的第一行是k，第二行是輸入字串，字串長度至少為 1 ，只由大小寫英文字母組\n",
    "成(A~Z, a~z)並且沒有空白。\n",
    "\n",
    "輸出格式\n",
    "輸出輸入字串中滿足k-交錯字串的要求的最長一段連續子字串的長度，以換行結尾。\n",
    "\n",
    "範例一：輸入\n",
    "1\n",
    "aBBdaaa\n",
    "\n",
    "範例一：正確輸出\n",
    "2\n",
    "\n",
    "範例三：輸入\n",
    "2\n",
    "aafAXbbCDCCC\n",
    "\n",
    "範例三：正確輸出\n",
    "8\n",
    "\n",
    "#### 範例二：輸入\n",
    "\n",
    "#### 3\n",
    "\n",
    "```\n",
    "DDaasAAbbCC\n",
    "```\n",
    "```\n",
    "範例二：正確輸出\n",
    "3\n",
    "```\n",
    "```\n",
    "範例四：輸入\n",
    "3\n",
    "DDaaAAbbCC\n",
    "```\n",
    "```\n",
    "範例四：正確輸出\n",
    "0\n",
    "```\n",
    "#### 評分說明：\n",
    "\n",
    "輸入包含若干筆測試資料，每一筆測試資料的執行時間限制(time limit)均為 1 秒，依\n",
    "正確通過測資筆數給分。其中：\n",
    "第 1 子題組 20 分，字串長度不超過 20 且k=1。\n",
    "第 2 子題組 30 分，字串長度不超過 100 且k ≤ 2 。\n",
    "第 3 子題組 50 分，字串長度不超過100,000且無其他限制。\n",
    "\n",
    "提示：根據定義 ，要找的答案是大寫片段與小寫片段交錯串接而成。本題有多種解法的思\n",
    "考方式，其中一種是從左往右掃描輸入字串，我們需要紀錄的狀態包含：目前是在小寫子\n",
    "字串中還是大寫子字串中，以及在目前大(小)寫子字串的第幾個位置。根據下一個字母的\n",
    "\n",
    "\n",
    "#### 大小寫，我們需要更新狀態並且記錄以此位置為結尾的最長交替字串長度。\n",
    "\n",
    "#### 另外一種思考是先掃描一遍字串，找出每一個連續大(小)寫片段的長度並將其記錄在\n",
    "\n",
    "#### 一個陣列，然後針對這個陣列來找出答案。"
   ]
  },
  {
   "cell_type": "code",
   "execution_count": 1,
   "metadata": {},
   "outputs": [],
   "source": [
    "c = 'a'"
   ]
  },
  {
   "cell_type": "code",
   "execution_count": 3,
   "metadata": {},
   "outputs": [
    {
     "data": {
      "text/plain": [
       "True"
      ]
     },
     "execution_count": 3,
     "metadata": {},
     "output_type": "execute_result"
    }
   ],
   "source": [
    "c.islower()"
   ]
  },
  {
   "cell_type": "code",
   "execution_count": 79,
   "metadata": {},
   "outputs": [],
   "source": [
    "line= 'aBBdaaa'"
   ]
  },
  {
   "cell_type": "code",
   "execution_count": 81,
   "metadata": {},
   "outputs": [
    {
     "data": {
      "text/plain": [
       "[0, 1, 1, 0, 0, 0, 0]"
      ]
     },
     "execution_count": 81,
     "metadata": {},
     "output_type": "execute_result"
    }
   ],
   "source": [
    "[int(x.isupper()) for x in line]"
   ]
  },
  {
   "cell_type": "code",
   "execution_count": 82,
   "metadata": {},
   "outputs": [
    {
     "data": {
      "text/plain": [
       "['0', '1', '1', '0', '0', '0', '0']"
      ]
     },
     "execution_count": 82,
     "metadata": {},
     "output_type": "execute_result"
    }
   ],
   "source": [
    "[str(int(x.isupper()) )for x in line]"
   ]
  },
  {
   "cell_type": "code",
   "execution_count": 84,
   "metadata": {},
   "outputs": [
    {
     "data": {
      "text/plain": [
       "'0110000'"
      ]
     },
     "execution_count": 84,
     "metadata": {},
     "output_type": "execute_result"
    }
   ],
   "source": [
    "''.join([str(int(x.isupper()) )for x in line])"
   ]
  },
  {
   "cell_type": "code",
   "execution_count": 85,
   "metadata": {},
   "outputs": [],
   "source": [
    "k=2"
   ]
  },
  {
   "cell_type": "code",
   "execution_count": 88,
   "metadata": {},
   "outputs": [],
   "source": [
    "pattern=['0'*k,'1'*k]"
   ]
  },
  {
   "cell_type": "code",
   "execution_count": 89,
   "metadata": {},
   "outputs": [
    {
     "data": {
      "text/plain": [
       "['00', '11']"
      ]
     },
     "execution_count": 89,
     "metadata": {},
     "output_type": "execute_result"
    }
   ],
   "source": [
    "pattern"
   ]
  },
  {
   "cell_type": "code",
   "execution_count": 95,
   "metadata": {},
   "outputs": [],
   "source": [
    "p0=pattern[0]\n",
    "p1=pattern[1]"
   ]
  },
  {
   "cell_type": "code",
   "execution_count": 96,
   "metadata": {},
   "outputs": [
    {
     "data": {
      "text/plain": [
       "('00', '11')"
      ]
     },
     "execution_count": 96,
     "metadata": {},
     "output_type": "execute_result"
    }
   ],
   "source": [
    "p0,p1"
   ]
  },
  {
   "cell_type": "code",
   "execution_count": 97,
   "metadata": {},
   "outputs": [],
   "source": [
    "p0=p0+pattern[1]\n",
    "p1=p1+pattern[0]"
   ]
  },
  {
   "cell_type": "code",
   "execution_count": 98,
   "metadata": {},
   "outputs": [
    {
     "data": {
      "text/plain": [
       "('0011', '1100')"
      ]
     },
     "execution_count": 98,
     "metadata": {},
     "output_type": "execute_result"
    }
   ],
   "source": [
    "p0,p1"
   ]
  },
  {
   "cell_type": "code",
   "execution_count": 99,
   "metadata": {},
   "outputs": [],
   "source": [
    "p0=p0+pattern[0]\n",
    "p1=p1+pattern[1]"
   ]
  },
  {
   "cell_type": "code",
   "execution_count": 100,
   "metadata": {},
   "outputs": [
    {
     "data": {
      "text/plain": [
       "('001100', '110011')"
      ]
     },
     "execution_count": 100,
     "metadata": {},
     "output_type": "execute_result"
    }
   ],
   "source": [
    "p0,p1"
   ]
  },
  {
   "cell_type": "code",
   "execution_count": 101,
   "metadata": {},
   "outputs": [],
   "source": [
    "p0=p0+pattern[1]\n",
    "p1=p1+pattern[0]"
   ]
  },
  {
   "cell_type": "code",
   "execution_count": 102,
   "metadata": {},
   "outputs": [
    {
     "data": {
      "text/plain": [
       "('00110011', '11001100')"
      ]
     },
     "execution_count": 102,
     "metadata": {},
     "output_type": "execute_result"
    }
   ],
   "source": [
    "p0,p1"
   ]
  },
  {
   "cell_type": "code",
   "execution_count": 103,
   "metadata": {},
   "outputs": [
    {
     "data": {
      "text/plain": [
       "False"
      ]
     },
     "execution_count": 103,
     "metadata": {},
     "output_type": "execute_result"
    }
   ],
   "source": [
    "p0 in st"
   ]
  },
  {
   "cell_type": "code",
   "execution_count": 5,
   "metadata": {},
   "outputs": [
    {
     "name": "stdout",
     "output_type": "stream",
     "text": [
      "aBBdaaa\n"
     ]
    }
   ],
   "source": [
    "st=input()"
   ]
  },
  {
   "cell_type": "markdown",
   "metadata": {},
   "source": [
    "## 老師示範"
   ]
  },
  {
   "cell_type": "code",
   "execution_count": 112,
   "metadata": {},
   "outputs": [
    {
     "name": "stdout",
     "output_type": "stream",
     "text": [
      "2\n",
      "aafAXbbCDCCC\n",
      "8\n"
     ]
    }
   ],
   "source": [
    "k = int(input())\n",
    "line = input()\n",
    "\n",
    "st=''.join([str(int(x.isupper()) )for x in line])\n",
    "\n",
    "pattern = ['0'*k, '1'*k]\n",
    "p0 = ''\n",
    "p1 = ''\n",
    "\n",
    "c = True\n",
    "m=0\n",
    "\n",
    "while c:\n",
    "    p0 = p0+pattern[m%2]\n",
    "    p1 = p1+pattern[(m+1)%2]\n",
    "    \n",
    "    if (p0 in st) or (p1 in st):\n",
    "        m = m+1\n",
    "    else:\n",
    "        c = False\n",
    "print(m*k)"
   ]
  },
  {
   "cell_type": "code",
   "execution_count": 113,
   "metadata": {},
   "outputs": [
    {
     "name": "stdout",
     "output_type": "stream",
     "text": [
      "The following commands were written to file `p2.py`:\n",
      "k = int(input())\n",
      "line = input()\n",
      "\n",
      "st=''.join([str(int(x.isupper()) )for x in line])\n",
      "\n",
      "pattern = ['0'*k, '1'*k]\n",
      "p0 = ''\n",
      "p1 = ''\n",
      "\n",
      "c = True\n",
      "m=0\n",
      "\n",
      "while c:\n",
      "    p0 = p0+pattern[m%2]\n",
      "    p1 = p1+pattern[(m+1)%2]\n",
      "    \n",
      "    if (p0 in st) or (p1 in st):\n",
      "        m = m+1\n",
      "    else:\n",
      "        c = False\n",
      "print(m*k)\n"
     ]
    }
   ],
   "source": [
    "%save \"p2.py\" 112"
   ]
  },
  {
   "cell_type": "markdown",
   "metadata": {},
   "source": [
    "## 我的解法"
   ]
  },
  {
   "cell_type": "code",
   "execution_count": 109,
   "metadata": {},
   "outputs": [
    {
     "name": "stdout",
     "output_type": "stream",
     "text": [
      "5\n",
      "aTYHgJUggyjYGhIJJYfugfYjgFP\n",
      "0\n"
     ]
    }
   ],
   "source": [
    "k=int(input())\n",
    "st=input()\n",
    "newst=\"\"\n",
    "for x in st:\n",
    "    if x.isupper()==True:\n",
    "        newst=newst+\"1\"\n",
    "    else:\n",
    "        newst=newst+\"0\"\n",
    "        \n",
    "answer=0\n",
    "if ((\"0\"*k) in newst) or ((\"1\"*k) in newst) ==True:\n",
    "    answer=k\n",
    "    \n",
    "if ((\"0\"*k+\"1\"*k) in newst) or ((\"1\"*k+\"0\"*k) in newst)==True:\n",
    "    answer=k*2\n",
    "    \n",
    "if ((\"0\"*k+\"1\"*k+\"0\"*k) in newst) or ((\"1\"*k+\"0\"*k+\"1\"*k) in newst)==True:\n",
    "    answer=k*3\n",
    "\n",
    "if ((\"0\"*k+\"1\"*k+\"0\"*k+\"1\"*k) in newst) or ((\"1\"*k+\"0\"*k+\"1\"*k+\"0\"*k) in newst)==True:\n",
    "    answer=k*4\n",
    "\n",
    "print(answer)"
   ]
  },
  {
   "cell_type": "code",
   "execution_count": 118,
   "metadata": {},
   "outputs": [
    {
     "name": "stdout",
     "output_type": "stream",
     "text": [
      "Overwriting p2t01.txt\n"
     ]
    }
   ],
   "source": [
    "%%writefile \"p2t01.txt\"\n",
    "1\n",
    "aBBdaaa"
   ]
  },
  {
   "cell_type": "code",
   "execution_count": 116,
   "metadata": {},
   "outputs": [
    {
     "name": "stdout",
     "output_type": "stream",
     "text": [
      "2\r\n"
     ]
    }
   ],
   "source": [
    "!python p2.py < p2t01.txt"
   ]
  },
  {
   "cell_type": "code",
   "execution_count": 122,
   "metadata": {},
   "outputs": [
    {
     "name": "stdout",
     "output_type": "stream",
     "text": [
      "Writing p2t03.txt\n"
     ]
    }
   ],
   "source": [
    "%%writefile \"p2t03.txt\"\n",
    "3\n",
    "DDaasAAbbCC"
   ]
  },
  {
   "cell_type": "code",
   "execution_count": 121,
   "metadata": {},
   "outputs": [
    {
     "name": "stdout",
     "output_type": "stream",
     "text": [
      "Overwriting p2t02.txt\n"
     ]
    }
   ],
   "source": [
    "%%writefile \"p2t02.txt\"\n",
    "2\n",
    "aafAXbbCDCCC"
   ]
  },
  {
   "cell_type": "code",
   "execution_count": 120,
   "metadata": {},
   "outputs": [
    {
     "name": "stdout",
     "output_type": "stream",
     "text": [
      "Writing p2t04.txt\n"
     ]
    }
   ],
   "source": [
    "%%writefile \"p2t04.txt\"\n",
    "3\n",
    "DDaaAAbbCC"
   ]
  },
  {
   "cell_type": "code",
   "execution_count": 123,
   "metadata": {},
   "outputs": [
    {
     "name": "stdout",
     "output_type": "stream",
     "text": [
      "8\r\n"
     ]
    }
   ],
   "source": [
    "!python p2.py < p2t02.txt"
   ]
  },
  {
   "cell_type": "code",
   "execution_count": 124,
   "metadata": {},
   "outputs": [
    {
     "name": "stdout",
     "output_type": "stream",
     "text": [
      "3\r\n"
     ]
    }
   ],
   "source": [
    "!python p2.py < p2t03.txt"
   ]
  },
  {
   "cell_type": "code",
   "execution_count": 125,
   "metadata": {},
   "outputs": [
    {
     "name": "stdout",
     "output_type": "stream",
     "text": [
      "0\r\n"
     ]
    }
   ],
   "source": [
    "!python p2.py < p2t04.txt"
   ]
  },
  {
   "cell_type": "code",
   "execution_count": null,
   "metadata": {},
   "outputs": [],
   "source": []
  }
 ],
 "metadata": {
  "kernelspec": {
   "display_name": "Python 3",
   "language": "python",
   "name": "python3"
  },
  "language_info": {
   "codemirror_mode": {
    "name": "ipython",
    "version": 3
   },
   "file_extension": ".py",
   "mimetype": "text/x-python",
   "name": "python",
   "nbconvert_exporter": "python",
   "pygments_lexer": "ipython3",
   "version": "3.7.3"
  }
 },
 "nbformat": 4,
 "nbformat_minor": 2
}
