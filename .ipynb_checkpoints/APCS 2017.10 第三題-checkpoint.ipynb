{
 "cells": [
  {
   "cell_type": "markdown",
   "metadata": {},
   "source": [
    "## 方法一"
   ]
  },
  {
   "cell_type": "code",
   "execution_count": 101,
   "metadata": {},
   "outputs": [
    {
     "name": "stdout",
     "output_type": "stream",
     "text": [
      "7\n",
      "0\n",
      "2 6 7\n",
      "2 1 4\n",
      "0\n",
      "2 3 2\n",
      "0\n",
      "0\n",
      "5\n",
      "4\n"
     ]
    }
   ],
   "source": [
    "n = int(input())\n",
    "T = {}\n",
    "root = list(range(1, n+1))\n",
    "\n",
    "for i in range(1,n+1):\n",
    "    line = input().split()\n",
    "    n_line = list(map(int,line))[1:]\n",
    "    T[i] = n_line\n",
    "    for k in n_line:\n",
    "        root.remove(k)\n",
    "\n",
    "        \n",
    "def h(v):\n",
    "    c_nodes=T[v]\n",
    "    if c_nodes==[]:\n",
    "        return 0\n",
    "    else:\n",
    "        return max(map(h, c_nodes))+1\n",
    "        \n",
    "        \n",
    "print(root[0])\n",
    "print(sum(map(h, range(1,n+1))))"
   ]
  },
  {
   "cell_type": "markdown",
   "metadata": {},
   "source": [
    "## 方法二：使用集合set(只考慮元素，不考慮重複及順序)"
   ]
  },
  {
   "cell_type": "code",
   "execution_count": 100,
   "metadata": {},
   "outputs": [
    {
     "name": "stdout",
     "output_type": "stream",
     "text": [
      "7\n",
      "0\n",
      "2 6 7\n",
      "2 1 4\n",
      "0\n",
      "2 3 2\n",
      "0\n",
      "0\n",
      "5\n",
      "4\n"
     ]
    }
   ],
   "source": [
    "n = int(input())\n",
    "T = {}\n",
    "root = set(range(1, n+1))\n",
    "\n",
    "for i in range(1,n+1):\n",
    "    line = input().split()\n",
    "    n_line = list(map(int,line))[1:]\n",
    "    T[i] = n_line\n",
    "    root = root - set(n_line)\n",
    "        \n",
    "def h(v):\n",
    "    c_nodes=T[v]\n",
    "    if c_nodes==[]:\n",
    "        return 0\n",
    "    else:\n",
    "        return max(map(h, c_nodes))+1\n",
    "\n",
    "print(root.pop())\n",
    "print(sum(map(h, range(1,n+1))))"
   ]
  },
  {
   "cell_type": "code",
   "execution_count": null,
   "metadata": {},
   "outputs": [],
   "source": []
  }
 ],
 "metadata": {
  "kernelspec": {
   "display_name": "Python 3",
   "language": "python",
   "name": "python3"
  }
 },
 "nbformat": 4,
 "nbformat_minor": 2
}
