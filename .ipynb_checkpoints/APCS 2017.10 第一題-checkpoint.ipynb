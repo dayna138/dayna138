{
 "cells": [
  {
   "cell_type": "markdown",
   "metadata": {},
   "source": [
    "## 邏輯運算子 (Logic Operators)\n",
    "\n",
    "#### 問題描述\n",
    "\n",
    "#### 小蘇最近在學三種邏輯運算子 AND、OR 和 XOR。這三種運算子都是二元運算子，\n",
    "\n",
    "也就是說在運算時需要兩個運算元，例如 a AND b。對於整數a與b，以下三個二元運算\n",
    "子的運算結果定義如下列三個表格：\n",
    "\n",
    "#### 舉例來說：\n",
    "\n",
    "#### (1) 0 AND 0 的結果為 0 ， 0 OR 0 以及 0 XOR 0 的結果也為 0 。\n",
    "\n",
    "#### (2) 0 AND 3 的結果為 0 ， 0 OR 3 以及 0 XOR 3 的結果則為 1 。\n",
    "\n",
    "#### (3) 4 AND 9 的結果為 1 ， 4 OR 9 的結果也為 1 ，但 4 XOR 9 的結果為 0 。\n",
    "\n",
    "```\n",
    "請撰寫一個程式，讀入 a、b 以及邏輯運算的結果，輸出可能的邏輯運算為何。\n",
    "```\n",
    "輸入格式\n",
    "輸入只有一行，共三個整數值，整數間以一個空白隔開。第一個整數代表 a，第二\n",
    "個整數代表 b，這兩數均為非負的整數。第三個整數代表邏輯運算的結果，只會是 0 或 1 。\n",
    "\n",
    "輸出格式\n",
    "輸出可能得到指定結果的運算，若有多個，輸出順序為 AND、OR、XOR，每個可能\n",
    "的運算單獨輸出一行，每行結尾皆有換行。若不可能得到指定結果，輸出 IMPOSSIBLE。\n",
    "（注意輸出時所有英文字母均為大寫字母。）\n",
    "\n",
    "```\n",
    "範例一：輸入\n",
    "0 0 0\n",
    "```\n",
    "```\n",
    "範例一：正確輸出\n",
    "AND\n",
    "OR\n",
    "XOR\n",
    "```\n",
    "#### 範例二：輸入\n",
    "\n",
    "#### 1 1 1\n",
    "\n",
    "#### 範例二：正確輸出\n",
    "\n",
    "#### AND\n",
    "\n",
    "#### OR\n",
    "\n",
    "#### 範例三：輸入\n",
    "\n",
    "#### 3 0 1\n",
    "\n",
    "#### 範例三：正確輸出\n",
    "\n",
    "#### OR\n",
    "\n",
    "#### XOR\n",
    "\n",
    "#### 範例四：輸入\n",
    "\n",
    "#### 0 0 1\n",
    "\n",
    "#### 範例四：正確輸出\n",
    "\n",
    "#### IMPOSSIBLE\n",
    "\n",
    "#### 評分說明\n",
    "\n",
    "輸入包含若干筆測試資料，每一筆測試資料的執行時間限制(time limit)均為 1 秒，依\n",
    "正確通過測資筆數給分。其中：\n",
    "第 1 子題組 80 分，a 和 b 的值只會是 0 或 1 。\n",
    "第 2 子題組 20 分， 0 _≤_ a, b < 10,000。\n",
    "\n",
    "```\n",
    "a AND b a OR b a XOR b\n",
    "b為 0 b不為 0 b為 0 b不為 0 b為 0 b不為 0\n",
    "a為 0 0 0 a為 0 0 1 a為 0 0 1\n",
    "a不為 0 0 1 a不為 0 1 1 a不為 0 1 0\n",
    "```\n"
   ]
  },
  {
   "cell_type": "code",
   "execution_count": 1,
   "metadata": {},
   "outputs": [
    {
     "name": "stdout",
     "output_type": "stream",
     "text": [
      "0 0 0\n",
      "AND\n",
      "OR\n",
      "XOR\n",
      "3 0 1\n",
      "OR\n",
      "XOR\n",
      "1 1 1\n",
      "AND\n",
      "OR\n",
      "0 0 1\n",
      "IMPOSSIBLE\n"
     ]
    }
   ],
   "source": [
    "testcase=4\n",
    "\n",
    "for i in range(testcase):\n",
    "    number = input()\n",
    "    a,b,c = number.split()\n",
    "    a,b,c = int(a), int(b), int(c) # a,b,c = map(int,line)\n",
    "    if a!=0: # if a:\n",
    "        a=1\n",
    "    if b!=0:\n",
    "        b=1\n",
    "    \n",
    "    fail=True\n",
    "    if (a & b==c):\n",
    "        print(\"AND\")\n",
    "        fail = False\n",
    "    if (a or b==c):\n",
    "        print(\"OR\")\n",
    "        fail = False\n",
    "    if (a ^ b==c):\n",
    "        print(\"XOR\")\n",
    "        fail = False\n",
    "    if fail:\n",
    "    # else:\n",
    "        print(\"IMPOSSIBLE\") # 若縮排相同 會在只判斷上一行的if情況下反應\n",
    "    \n"
   ]
  },
  {
   "cell_type": "code",
   "execution_count": 2,
   "metadata": {},
   "outputs": [
    {
     "name": "stdout",
     "output_type": "stream",
     "text": [
      "File `p1.py` exists. Overwrite (y/[N])?  y\n",
      "The following commands were written to file `p1.py`:\n",
      "testcase=4\n",
      "\n",
      "for i in range(testcase):\n",
      "    number = input()\n",
      "    a,b,c = number.split()\n",
      "    a,b,c = int(a), int(b), int(c) # a,b,c = map(int,line)\n",
      "    if a!=0: # if a:\n",
      "        a=1\n",
      "    if b!=0:\n",
      "        b=1\n",
      "    \n",
      "    fail=True\n",
      "    if (a & b==c):\n",
      "        print(\"AND\")\n",
      "        fail = False\n",
      "    if (a or b==c):\n",
      "        print(\"OR\")\n",
      "        fail = False\n",
      "    if (a ^ b==c):\n",
      "        print(\"XOR\")\n",
      "        fail = False\n",
      "    if fail:\n",
      "    # else:\n",
      "        print(\"IMPOSSIBLE\") # 若縮排相同 會在只判斷上一行的if情況下反應\n",
      "    \n"
     ]
    }
   ],
   "source": [
    "%save 'p1.py' 1"
   ]
  },
  {
   "cell_type": "code",
   "execution_count": 3,
   "metadata": {},
   "outputs": [
    {
     "name": "stdout",
     "output_type": "stream",
     "text": [
      "Writing plt01.txt\n"
     ]
    }
   ],
   "source": [
    "%%writefile \"plt01.txt\"\n",
    "0 0 0"
   ]
  },
  {
   "cell_type": "code",
   "execution_count": 4,
   "metadata": {},
   "outputs": [
    {
     "name": "stdout",
     "output_type": "stream",
     "text": [
      "Writing plt02.txt\n"
     ]
    }
   ],
   "source": [
    "%%writefile \"plt02.txt\"\n",
    "1 1 1"
   ]
  },
  {
   "cell_type": "code",
   "execution_count": 5,
   "metadata": {},
   "outputs": [
    {
     "name": "stdout",
     "output_type": "stream",
     "text": [
      "Writing plt03.txt\n"
     ]
    }
   ],
   "source": [
    "%%writefile \"plt03.txt\"\n",
    "3 0 1"
   ]
  },
  {
   "cell_type": "code",
   "execution_count": 6,
   "metadata": {},
   "outputs": [
    {
     "name": "stdout",
     "output_type": "stream",
     "text": [
      "Writing plt04.txt\n"
     ]
    }
   ],
   "source": [
    "%%writefile \"plt04.txt\"\n",
    "0 0 1"
   ]
  },
  {
   "cell_type": "code",
   "execution_count": 9,
   "metadata": {},
   "outputs": [
    {
     "name": "stdout",
     "output_type": "stream",
     "text": [
      "AND\r\n",
      "OR\r\n",
      "Traceback (most recent call last):\r\n",
      "  File \"p1.py\", line 5, in <module>\r\n",
      "    number = input()\r\n",
      "EOFError: EOF when reading a line\r\n"
     ]
    }
   ],
   "source": [
    "!python p1.py < plt02.txt"
   ]
  },
  {
   "cell_type": "code",
   "execution_count": 8,
   "metadata": {},
   "outputs": [],
   "source": [
    "line =['1','2','3','4','5']"
   ]
  },
  {
   "cell_type": "code",
   "execution_count": null,
   "metadata": {},
   "outputs": [],
   "source": []
  }
 ],
 "metadata": {
  "kernelspec": {
   "display_name": "Python 3",
   "language": "python",
   "name": "python3"
  },
  "language_info": {
   "codemirror_mode": {
    "name": "ipython",
    "version": 3
   },
   "file_extension": ".py",
   "mimetype": "text/x-python",
   "name": "python",
   "nbconvert_exporter": "python",
   "pygments_lexer": "ipython3",
   "version": "3.7.3"
  }
 },
 "nbformat": 4,
 "nbformat_minor": 2
}
