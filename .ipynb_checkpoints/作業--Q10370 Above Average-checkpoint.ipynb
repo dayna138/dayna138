{
 "cells": [
  {
   "cell_type": "markdown",
   "metadata": {},
   "source": [
    "## Input\n",
    "輸入的第一列有一個整數 C 代表以下有多少組測試資料。\n",
    "每組資料的第一個整數 N 代表班級總人數 ( 1 <= N <= 1000 )。\n",
    "接下來有N個以空白或換行來間隔的整數，代表每個學生的期末總成績 ( 0 <= 分數 <= 100 )。\n",
    "\n",
    "## Output\n",
    "對每組測試資料輸出一列，算出有多少百分比的學生成績比全班平均高，請四捨五入到小數第三位。"
   ]
  },
  {
   "cell_type": "code",
   "execution_count": 34,
   "metadata": {},
   "outputs": [
    {
     "name": "stdout",
     "output_type": "stream",
     "text": [
      "5\n",
      "5 50 50 70 80 100\n",
      "7 100 95 90 80 70 60 50\n",
      "3 70 90 80\n",
      "3 70 90 81\n",
      "9 100 99 98 97 96 95 94 93 91\n",
      "40.000%\n",
      "57.143%\n",
      "33.333%\n",
      "66.667%\n",
      "55.556%\n"
     ]
    }
   ],
   "source": [
    "testcase = int(input())\n",
    "rateall = []\n",
    "\n",
    "while testcase>0:\n",
    "    testcase=testcase-1\n",
    "    data = input()\n",
    "    newdata = list(map(int, data.split()))\n",
    "    \n",
    "    average = (sum(newdata)-newdata[0])/newdata[0]\n",
    "    \n",
    "    s=0\n",
    "    for i in range(1,len(newdata)):\n",
    "        if newdata[i] > average:\n",
    "            s = s+1\n",
    "    rate = s/(len(newdata)-1)\n",
    "    rateall.append(rate)\n",
    "    \n",
    "for i in range(len(rateall)):\n",
    "    print('%.3f%%' % (rateall[i] * 100))"
   ]
  },
  {
   "cell_type": "code",
   "execution_count": null,
   "metadata": {},
   "outputs": [],
   "source": []
  }
 ],
 "metadata": {
  "kernelspec": {
   "display_name": "Python 3",
   "language": "python",
   "name": "python3"
  },
  "language_info": {
   "codemirror_mode": {
    "name": "ipython",
    "version": 3
   },
   "file_extension": ".py",
   "mimetype": "text/x-python",
   "name": "python",
   "nbconvert_exporter": "python",
   "pygments_lexer": "ipython3",
   "version": "3.7.3"
  }
 },
 "nbformat": 4,
 "nbformat_minor": 2
}
