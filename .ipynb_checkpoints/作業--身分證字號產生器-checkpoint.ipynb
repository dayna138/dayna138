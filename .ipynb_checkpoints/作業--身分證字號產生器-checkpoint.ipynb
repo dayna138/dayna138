{
 "cells": [
  {
   "cell_type": "code",
   "execution_count": 55,
   "metadata": {},
   "outputs": [],
   "source": [
    "from random import randint"
   ]
  },
  {
   "cell_type": "code",
   "execution_count": 56,
   "metadata": {},
   "outputs": [],
   "source": [
    "def producer():\n",
    "    \n",
    "    idal=str(input('請輸入任一大寫英文字母:'))\n",
    "    \n",
    "    randomnum=randint(10000000,29999999)\n",
    "    r2=str(randomnum)\n",
    "    newrandomnum= []\n",
    "    for p in r2:\n",
    "        p2 = int(p)\n",
    "        newrandomnum.append(p2)\n",
    "    \n",
    "    s=0\n",
    "    for a in range(0,8):\n",
    "        s=s+newrandomnum[a]*(8-a)\n",
    "\n",
    "    \n",
    "    if idal=='A':\n",
    "        s=s+1\n",
    "    elif idal=='B':\n",
    "        s=s+10\n",
    "    elif idal=='C':\n",
    "        s=s+19\n",
    "    elif idal=='D':\n",
    "        s=s+28\n",
    "    elif idal=='E':\n",
    "        s=s+37\n",
    "    elif idal=='F':\n",
    "        s=s+46\n",
    "    elif idal=='G':\n",
    "        s=s+55\n",
    "    elif idal=='H':\n",
    "        s=s+64\n",
    "    elif idal=='I':\n",
    "        s=s+39\n",
    "    elif idal=='J':\n",
    "        s=s+73\n",
    "    elif idal=='K':\n",
    "        s=s+82\n",
    "    elif idal=='L':\n",
    "        s=s+2\n",
    "    elif idal=='M':\n",
    "        s=s+11\n",
    "    elif idal=='N':\n",
    "        s=s+20\n",
    "    elif idal=='O':\n",
    "        s=s+48\n",
    "    elif idal=='P':\n",
    "        s=s+29\n",
    "    elif idal=='Q':\n",
    "        s=s+38\n",
    "    elif idal=='R':\n",
    "        s=s+47\n",
    "    elif idal=='S':\n",
    "        s=s+56\n",
    "    elif idal=='T':\n",
    "        s=s+65\n",
    "    elif idal=='U':\n",
    "        s=s+74\n",
    "    elif idal=='V':\n",
    "        s=s+83\n",
    "    elif idal=='W':\n",
    "        s=s+21\n",
    "    elif idal=='X':\n",
    "        s=s+3\n",
    "    elif idal=='Y':\n",
    "        s=s+12\n",
    "    elif idal=='Z':\n",
    "        s=s+30\n",
    "    else:\n",
    "        s=s+0\n",
    "\n",
    "\n",
    "    ninth=10-s%10\n",
    "    \n",
    "    print(idal+r2+str(ninth))"
   ]
  },
  {
   "cell_type": "code",
   "execution_count": 57,
   "metadata": {},
   "outputs": [
    {
     "name": "stdout",
     "output_type": "stream",
     "text": [
      "請輸入任一大寫英文字母:P\n",
      "P259163928\n"
     ]
    }
   ],
   "source": [
    "producer()"
   ]
  },
  {
   "cell_type": "code",
   "execution_count": null,
   "metadata": {},
   "outputs": [],
   "source": []
  }
 ],
 "metadata": {
  "kernelspec": {
   "display_name": "Python 3",
   "language": "python",
   "name": "python3"
  },
  "language_info": {
   "codemirror_mode": {
    "name": "ipython",
    "version": 3
   },
   "file_extension": ".py",
   "mimetype": "text/x-python",
   "name": "python",
   "nbconvert_exporter": "python",
   "pygments_lexer": "ipython3",
   "version": "3.7.3"
  }
 },
 "nbformat": 4,
 "nbformat_minor": 2
}
