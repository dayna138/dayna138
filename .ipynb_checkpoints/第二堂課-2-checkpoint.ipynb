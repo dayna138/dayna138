{
 "cells": [
  {
   "cell_type": "code",
   "execution_count": 1,
   "metadata": {},
   "outputs": [
    {
     "name": "stdout",
     "output_type": "stream",
     "text": [
      "婉儒\n"
     ]
    }
   ],
   "source": [
    "name=input()"
   ]
  },
  {
   "cell_type": "code",
   "execution_count": 2,
   "metadata": {},
   "outputs": [
    {
     "data": {
      "text/plain": [
       "'婉儒'"
      ]
     },
     "execution_count": 2,
     "metadata": {},
     "output_type": "execute_result"
    }
   ],
   "source": [
    "name"
   ]
  },
  {
   "cell_type": "code",
   "execution_count": 3,
   "metadata": {},
   "outputs": [
    {
     "name": "stdout",
     "output_type": "stream",
     "text": [
      "請輸入你的名字:婉儒\n"
     ]
    }
   ],
   "source": [
    "name=input('請輸入你的名字:')"
   ]
  },
  {
   "cell_type": "code",
   "execution_count": 4,
   "metadata": {},
   "outputs": [
    {
     "name": "stdout",
     "output_type": "stream",
     "text": [
      "請輸入你的名字:婉儒\n",
      "婉儒，你好!\n"
     ]
    }
   ],
   "source": [
    "name=input('請輸入你的名字:')\n",
    "print(name + '，你好!')"
   ]
  },
  {
   "cell_type": "code",
   "execution_count": 5,
   "metadata": {},
   "outputs": [
    {
     "name": "stdout",
     "output_type": "stream",
     "text": [
      "請輸入日圓金額:1200\n",
      "換算成台幣為 344.7410904\n"
     ]
    }
   ],
   "source": [
    "c = 0.287284242\n",
    "jpy = floatoat (input('請輸入日圓金額:'))\n",
    "print('換算成台幣為', jpy*c)"
   ]
  },
  {
   "cell_type": "markdown",
   "metadata": {},
   "source": [
    "### 拍拍機器人"
   ]
  },
  {
   "cell_type": "code",
   "execution_count": 7,
   "metadata": {},
   "outputs": [
    {
     "name": "stdout",
     "output_type": "stream",
     "text": [
      ">>>哈囉\n",
      "✧(•̀ω•́ ):HELLO\n"
     ]
    }
   ],
   "source": [
    "egg = input('>>>')\n",
    "print('✧(•̀ω•́ ):HELLO')"
   ]
  },
  {
   "cell_type": "markdown",
   "metadata": {},
   "source": [
    "### 字串和串列的運算"
   ]
  },
  {
   "cell_type": "code",
   "execution_count": 8,
   "metadata": {},
   "outputs": [
    {
     "data": {
      "text/plain": [
       "'(-`ェ´-╬)   (ﾒ ﾟ皿ﾟ)ﾒ'"
      ]
     },
     "execution_count": 8,
     "metadata": {},
     "output_type": "execute_result"
    }
   ],
   "source": [
    "\"(-`ェ´-╬)\"+\"   \"+'(ﾒ ﾟ皿ﾟ)ﾒ'"
   ]
  },
  {
   "cell_type": "code",
   "execution_count": 9,
   "metadata": {},
   "outputs": [
    {
     "data": {
      "text/plain": [
       "'(ﾒ ﾟ皿ﾟ)ﾒ(ﾒ ﾟ皿ﾟ)ﾒ(ﾒ ﾟ皿ﾟ)ﾒ(ﾒ ﾟ皿ﾟ)ﾒ(ﾒ ﾟ皿ﾟ)ﾒ'"
      ]
     },
     "execution_count": 9,
     "metadata": {},
     "output_type": "execute_result"
    }
   ],
   "source": [
    "'(ﾒ ﾟ皿ﾟ)ﾒ'*5"
   ]
  },
  {
   "cell_type": "code",
   "execution_count": 10,
   "metadata": {},
   "outputs": [
    {
     "data": {
      "text/plain": [
       "[1, 2, 3, 4, 5, 6]"
      ]
     },
     "execution_count": 10,
     "metadata": {},
     "output_type": "execute_result"
    }
   ],
   "source": [
    "[1,2,3]+[4,5,6]"
   ]
  },
  {
   "cell_type": "markdown",
   "metadata": {},
   "source": [
    "### 條件判斷"
   ]
  },
  {
   "cell_type": "code",
   "execution_count": 11,
   "metadata": {},
   "outputs": [
    {
     "data": {
      "text/plain": [
       "True"
      ]
     },
     "execution_count": 11,
     "metadata": {},
     "output_type": "execute_result"
    }
   ],
   "source": [
    "2 < 3"
   ]
  },
  {
   "cell_type": "code",
   "execution_count": 12,
   "metadata": {},
   "outputs": [
    {
     "data": {
      "text/plain": [
       "False"
      ]
     },
     "execution_count": 12,
     "metadata": {},
     "output_type": "execute_result"
    }
   ],
   "source": [
    "3<2"
   ]
  },
  {
   "cell_type": "code",
   "execution_count": 13,
   "metadata": {},
   "outputs": [],
   "source": [
    "a=7"
   ]
  },
  {
   "cell_type": "code",
   "execution_count": 14,
   "metadata": {},
   "outputs": [
    {
     "data": {
      "text/plain": [
       "False"
      ]
     },
     "execution_count": 14,
     "metadata": {},
     "output_type": "execute_result"
    }
   ],
   "source": [
    "a==8"
   ]
  },
  {
   "cell_type": "code",
   "execution_count": 15,
   "metadata": {},
   "outputs": [
    {
     "data": {
      "text/plain": [
       "True"
      ]
     },
     "execution_count": 15,
     "metadata": {},
     "output_type": "execute_result"
    }
   ],
   "source": [
    "a!=8"
   ]
  },
  {
   "cell_type": "code",
   "execution_count": 16,
   "metadata": {},
   "outputs": [
    {
     "data": {
      "text/plain": [
       "True"
      ]
     },
     "execution_count": 16,
     "metadata": {},
     "output_type": "execute_result"
    }
   ],
   "source": [
    "a>=6"
   ]
  },
  {
   "cell_type": "code",
   "execution_count": 25,
   "metadata": {},
   "outputs": [
    {
     "name": "stdout",
     "output_type": "stream",
     "text": [
      "及格了!\n"
     ]
    }
   ],
   "source": [
    "grade = 60\n",
    "\n",
    "if grade >=80:\n",
    "    print('太神了！！')\n",
    "elif grade >=60:\n",
    "    print('及格了!')\n",
    "elif grade >=30:\n",
    "    print('還不錯，再加油！')\n",
    "    print('我開玩笑的')\n",
    "else:\n",
    "    print('不要灰心，再努力一點！')"
   ]
  },
  {
   "cell_type": "code",
   "execution_count": 27,
   "metadata": {},
   "outputs": [
    {
     "data": {
      "text/plain": [
       "[0, 1, 2, 3, 4, 5, 6, 7, 8, 9]"
      ]
     },
     "execution_count": 27,
     "metadata": {},
     "output_type": "execute_result"
    }
   ],
   "source": [
    "list(range(0,10))"
   ]
  },
  {
   "cell_type": "code",
   "execution_count": 29,
   "metadata": {},
   "outputs": [],
   "source": [
    "奇怪的串列 = [37,85,[2,3,6],'cat',49]"
   ]
  },
  {
   "cell_type": "code",
   "execution_count": 30,
   "metadata": {},
   "outputs": [
    {
     "data": {
      "text/plain": [
       "[37, 85, [2, 3, 6], 'cat', 49]"
      ]
     },
     "execution_count": 30,
     "metadata": {},
     "output_type": "execute_result"
    }
   ],
   "source": [
    "奇怪的串列"
   ]
  },
  {
   "cell_type": "code",
   "execution_count": 31,
   "metadata": {},
   "outputs": [],
   "source": [
    "L =[2,2,3,3]"
   ]
  },
  {
   "cell_type": "code",
   "execution_count": 32,
   "metadata": {},
   "outputs": [
    {
     "data": {
      "text/plain": [
       "[2, 2, 3, 3]"
      ]
     },
     "execution_count": 32,
     "metadata": {},
     "output_type": "execute_result"
    }
   ],
   "source": [
    "L"
   ]
  },
  {
   "cell_type": "code",
   "execution_count": 33,
   "metadata": {},
   "outputs": [
    {
     "data": {
      "text/plain": [
       "{2, 3}"
      ]
     },
     "execution_count": 33,
     "metadata": {},
     "output_type": "execute_result"
    }
   ],
   "source": [
    "set(L)"
   ]
  },
  {
   "cell_type": "code",
   "execution_count": 34,
   "metadata": {},
   "outputs": [
    {
     "data": {
      "text/plain": [
       "[1, 3, 5, 7, 9]"
      ]
     },
     "execution_count": 34,
     "metadata": {},
     "output_type": "execute_result"
    }
   ],
   "source": [
    "list(range(1,10,2))"
   ]
  },
  {
   "cell_type": "code",
   "execution_count": 35,
   "metadata": {},
   "outputs": [],
   "source": [
    "L=list('ABCDEFGHIJK')"
   ]
  },
  {
   "cell_type": "code",
   "execution_count": 36,
   "metadata": {},
   "outputs": [
    {
     "data": {
      "text/plain": [
       "['A', 'B', 'C', 'D', 'E', 'F', 'G', 'H', 'I', 'J', 'K']"
      ]
     },
     "execution_count": 36,
     "metadata": {},
     "output_type": "execute_result"
    }
   ],
   "source": [
    "L"
   ]
  },
  {
   "cell_type": "code",
   "execution_count": 37,
   "metadata": {},
   "outputs": [
    {
     "data": {
      "text/plain": [
       "'K'"
      ]
     },
     "execution_count": 37,
     "metadata": {},
     "output_type": "execute_result"
    }
   ],
   "source": [
    "L[-1]"
   ]
  },
  {
   "cell_type": "code",
   "execution_count": 38,
   "metadata": {},
   "outputs": [
    {
     "data": {
      "text/plain": [
       "'A'"
      ]
     },
     "execution_count": 38,
     "metadata": {},
     "output_type": "execute_result"
    }
   ],
   "source": [
    "L[0]"
   ]
  },
  {
   "cell_type": "code",
   "execution_count": 39,
   "metadata": {},
   "outputs": [
    {
     "data": {
      "text/plain": [
       "['D', 'E', 'F']"
      ]
     },
     "execution_count": 39,
     "metadata": {},
     "output_type": "execute_result"
    }
   ],
   "source": [
    "L[3:6]"
   ]
  },
  {
   "cell_type": "code",
   "execution_count": 40,
   "metadata": {},
   "outputs": [
    {
     "data": {
      "text/plain": [
       "['F', 'G', 'H', 'I', 'J', 'K']"
      ]
     },
     "execution_count": 40,
     "metadata": {},
     "output_type": "execute_result"
    }
   ],
   "source": [
    "L[5:]"
   ]
  },
  {
   "cell_type": "code",
   "execution_count": 41,
   "metadata": {},
   "outputs": [
    {
     "data": {
      "text/plain": [
       "['A', 'B', 'C', 'D', 'E']"
      ]
     },
     "execution_count": 41,
     "metadata": {},
     "output_type": "execute_result"
    }
   ],
   "source": [
    "L[:5]"
   ]
  },
  {
   "cell_type": "code",
   "execution_count": 42,
   "metadata": {},
   "outputs": [
    {
     "data": {
      "text/plain": [
       "['A', 'B', 'C', 'D', 'E', 'F', 'G', 'H', 'I']"
      ]
     },
     "execution_count": 42,
     "metadata": {},
     "output_type": "execute_result"
    }
   ],
   "source": [
    "L[:-2]"
   ]
  },
  {
   "cell_type": "code",
   "execution_count": 43,
   "metadata": {},
   "outputs": [],
   "source": [
    "s ='ABCDEFGHIJK'"
   ]
  },
  {
   "cell_type": "code",
   "execution_count": 44,
   "metadata": {},
   "outputs": [
    {
     "data": {
      "text/plain": [
       "'ABCDEFGHI'"
      ]
     },
     "execution_count": 44,
     "metadata": {},
     "output_type": "execute_result"
    }
   ],
   "source": [
    "s[:-2]"
   ]
  },
  {
   "cell_type": "code",
   "execution_count": 45,
   "metadata": {},
   "outputs": [],
   "source": [
    "L=[1,2,[3,4,5],9]"
   ]
  },
  {
   "cell_type": "code",
   "execution_count": 46,
   "metadata": {},
   "outputs": [
    {
     "data": {
      "text/plain": [
       "[3, 4, 5]"
      ]
     },
     "execution_count": 46,
     "metadata": {},
     "output_type": "execute_result"
    }
   ],
   "source": [
    "L[2]"
   ]
  },
  {
   "cell_type": "code",
   "execution_count": 48,
   "metadata": {},
   "outputs": [
    {
     "data": {
      "text/plain": [
       "[4, 5]"
      ]
     },
     "execution_count": 48,
     "metadata": {},
     "output_type": "execute_result"
    }
   ],
   "source": [
    "L[2][1:]"
   ]
  },
  {
   "cell_type": "code",
   "execution_count": 49,
   "metadata": {},
   "outputs": [],
   "source": [
    "A =[[1,2],[3,4]]"
   ]
  },
  {
   "cell_type": "code",
   "execution_count": 50,
   "metadata": {},
   "outputs": [
    {
     "data": {
      "text/plain": [
       "2"
      ]
     },
     "execution_count": 50,
     "metadata": {},
     "output_type": "execute_result"
    }
   ],
   "source": [
    "A[0][1]"
   ]
  },
  {
   "cell_type": "markdown",
   "metadata": {},
   "source": [
    "### for迴圈"
   ]
  },
  {
   "cell_type": "code",
   "execution_count": 51,
   "metadata": {},
   "outputs": [],
   "source": [
    "X = ['豬','狗','牛']"
   ]
  },
  {
   "cell_type": "code",
   "execution_count": 52,
   "metadata": {},
   "outputs": [
    {
     "name": "stdout",
     "output_type": "stream",
     "text": [
      "豬\n",
      "狗\n",
      "牛\n"
     ]
    }
   ],
   "source": [
    "for i in X:\n",
    "    print(i)"
   ]
  },
  {
   "cell_type": "code",
   "execution_count": 54,
   "metadata": {},
   "outputs": [
    {
     "name": "stdout",
     "output_type": "stream",
     "text": [
      "0\n",
      "1\n",
      "2\n",
      "3\n",
      "4\n",
      "5\n",
      "6\n",
      "7\n",
      "8\n",
      "9\n"
     ]
    }
   ],
   "source": [
    "for i in range(10):\n",
    "    print(i)"
   ]
  },
  {
   "cell_type": "code",
   "execution_count": 55,
   "metadata": {},
   "outputs": [],
   "source": [
    "N = range(1,101)"
   ]
  },
  {
   "cell_type": "code",
   "execution_count": 63,
   "metadata": {},
   "outputs": [],
   "source": [
    "N=range(1,101)"
   ]
  },
  {
   "cell_type": "code",
   "execution_count": 61,
   "metadata": {},
   "outputs": [
    {
     "name": "stdout",
     "output_type": "stream",
     "text": [
      "1+2+...+100= 5050\n"
     ]
    }
   ],
   "source": [
    "s=0\n",
    "\n",
    "for i in range(1,101):\n",
    "   s=s+i\n",
    "print('1+2+...+100=',s)    "
   ]
  },
  {
   "cell_type": "markdown",
   "metadata": {},
   "source": [
    "### while迴圈"
   ]
  },
  {
   "cell_type": "markdown",
   "metadata": {},
   "source": [
    "    while條件式：\n",
    "        條件符合就執行"
   ]
  },
  {
   "cell_type": "code",
   "execution_count": 62,
   "metadata": {},
   "outputs": [
    {
     "name": "stdout",
     "output_type": "stream",
     "text": [
      "*\n",
      "**\n",
      "***\n",
      "****\n",
      "*****\n",
      "******\n",
      "*******\n",
      "********\n",
      "*********\n"
     ]
    }
   ],
   "source": [
    "n=1\n",
    "\n",
    "while n <10:\n",
    "    print('*'*n)\n",
    "    n=n+1"
   ]
  },
  {
   "cell_type": "code",
   "execution_count": null,
   "metadata": {},
   "outputs": [],
   "source": [
    "message=''\n",
    "while message!='Bye':\n",
    "    message=input(\">>>\")\n",
    "    print('✧(•̀ω•́ ):HELLO')\n",
    "    print() #只是空一行為了美觀"
   ]
  },
  {
   "cell_type": "code",
   "execution_count": 2,
   "metadata": {},
   "outputs": [
    {
     "name": "stdout",
     "output_type": "stream",
     "text": [
      "請輸入你的成績:90\n",
      "太神了！！\n"
     ]
    }
   ],
   "source": [
    "grade=int(input('請輸入你的成績:'))\n",
    "\n",
    "if grade >=80:\n",
    "    print('太神了！！')\n",
    "elif grade >=60:\n",
    "    print('及格了!')\n",
    "elif grade >=30:\n",
    "    print('還不錯，再加油！')\n",
    "    print('我開玩笑的')\n",
    "else:\n",
    "    print('不要灰心，再努力一點！')"
   ]
  },
  {
   "cell_type": "code",
   "execution_count": 2,
   "metadata": {},
   "outputs": [
    {
     "name": "stdout",
     "output_type": "stream",
     "text": [
      "想知道你的本週運勢嗎？請輸入你的生日(例如:四月五日則輸入0405):0716\n",
      "在太陽的鎮守下，巨蟹座本週受到行星逆行的負面影響較小，好運氣也相對不減反增，過去在職場、課業上若一直處於緊繃焦慮的你，最近這段時間倒有機會嶄露頭角，想完成目標可能不用再那麼費力。愛情上和伴侶默契並非百分百，但彼此頗能相知相惜，還需要多費點心思經營關心，有機會在此時許下真心和承諾。\n"
     ]
    }
   ],
   "source": [
    "birthday=int(input('想知道你的本週運勢嗎？請輸入你的生日(例如:四月五日則輸入0405):'))\n",
    "\n",
    "if birthday >=1222:\n",
    "    print('在這波眾星大退行的影響下，魔羯本週警報連連，不論是對內或對外溝通方面都是狀況百出，有些臨時發生的事件將考驗著你的應變能力，想要尋求助力，也得看你平時的人脈是否有打好根基。和心儀對象約會，最好避免與水有關的地點，像是河堤邊、海邊或遊湖等，很可能會在這些地方發生兩人口角，最後很不浪漫的結束約會。')\n",
    "elif birthday >=1123:\n",
    "    print('工作中似乎頻頻遇到能力不及你的你偏偏要質疑你、向你挑戰的人，而人際上也屢屢出現考驗你理智的狀況，讓你骨子裡的反叛性格在此時瀕臨爆發邊緣，此時的射手眼前考驗重重，除了工作外，也要小心處理與情人和朋友的溝通，就算意見不合，也不要把狠話說盡，最後無法有所轉圜，還是得饒人處且饒人吧。')\n",
    "elif birthday >=1024:\n",
    "    print('天蠍本週慢慢進入愈來愈忙碌的時期，不論是工作或是感情上，都彷彿走入了一波未平一波又起的多事之秋，考驗著你的臨場反應，想要在這波逆流之中化危機為轉機，那麼最好拿出更多耐心，靜下來想好解決方案，一昧的生悶氣或是逃避不但於事無補，後面的麻煩可能還愈來愈多。感情原地踏步居多，沒有消息就是好消息。')\n",
    "elif birthday >=923:\n",
    "    print('天秤座本週也難逃水星挾帶其它幾個行星的負影響能量，這陣子運勢高低起伏，只能說凡事都要如履薄冰，半點馬虎不得。尤其在工作上要特別小心處理人際關係的問題，除了公事，建議你私底下就少說一點八卦是非，以免沾惹一身腥。感情上一昧只想追趕相處進度，有時輕鬆的吃飯聊天看電影，愉快的氛圍自然能讓感情前進。')\n",
    "elif birthday >=823:\n",
    "    print('這週的處女座自己給自己的壓力似乎已經快要超過負荷，但仍有某種讓你開始有種使不上力的無助感，加上本身在人際間遇到的一些挫折，可說是蠟燭兩頭燒，這時候別期望愛情會給你力量，當你期望愈高，失望也就愈高，只有反求諸已，想要別人好你就得先付出，如此態度才能換來別人對你的珍惜。')\n",
    "elif birthday >=723:\n",
    "    print('獅子座本週最需要小心的是與平輩朋友及情人的相處互動，別以為交情深就可以肆無忌憚的批評，或直來直往少了彼此尊重的默契，建議獅子別一昧以為自己是老大，有時候多點友善多點關心才能累積你的人脈，重點是朋友就像鏡子，你對人家愈好，人家也會愈友善的對你，這樣平和的互動何樂不為呢?')\n",
    "elif birthday >=622:\n",
    "    print('在太陽的鎮守下，巨蟹座本週受到行星逆行的負面影響較小，好運氣也相對不減反增，過去在職場、課業上若一直處於緊繃焦慮的你，最近這段時間倒有機會嶄露頭角，想完成目標可能不用再那麼費力。愛情上和伴侶默契並非百分百，但彼此頗能相知相惜，還需要多費點心思經營關心，有機會在此時許下真心和承諾。')\n",
    "elif birthday >=521:\n",
    "    print('本週雙子工作上表現止跌回升，靈巧的應答反應加了分，而積極正面的應對態度更讓你在長官心中的好感備增，得心應手的表現將為你埋下未來加薪升遷的種子，未來潛力不容小覷。不過也別小看水逆帶來的連鎖效應，此時感情上溝通不良的關係將導致彼此誤解愈來愈深，如果不能把誤會即時說開，那麼感情勢必受到風寒。')\n",
    "elif birthday >=420:\n",
    "    print('比起上週運勢的高低震盪，金牛這週心情上倒是和緩了許多，對很多事情的態度也不再那麼一絲不苟，唯一的小毛病就是愛批評的德性不改，有些不好聽的話一說出口連帶朋友的心情也都down了下來，記得腦子裡多想點正面的事，生活才能開心。感情上運勢拖泥帶水，如果舊感情沒整理好，就沒有新對象的必要。')\n",
    "elif birthday >=321:\n",
    "    print('來自行星的考驗就像夏日太陽般持續增溫，考驗著牡羊座處事的EQ，特別是此時很多安排好的事情易有措手不及的變化，如果太過緊繃，就可能因過大的得失心讓情緒失控，但如果能抱著順其自然的開放態度，反而能讓事情有另一種發展可能。感情是最近心情上重要的支柱，對方就算不能立即現身，憑著清談聊天也能成為你最佳的依靠。')\n",
    "elif birthday >=219:\n",
    "    print('感情宮位裡來回震盪，本週雙魚得特別留意和心上人的互動默契，兩人之間可能會有一些意料外的化學變化將在此時發生，但也可能擦槍走火從此愈離愈遠，超越或失控，就看你會怎麼面對。交際運踢到鐵板，與朋友約好的活動很容易取消或延後，此時的你也並沒有太多心思經營人脈，只想專注於自己感興趣的事情上。')\n",
    "elif birthday >=120:\n",
    "    print('水瓶本週工作上的表現慢慢回歸以往水準，甚至能得到大家的認同，小確幸連連！這週水星和火星對你的影響相對較小，也讓你也機會稍稍歇息，在氣氛輕鬆的場合會遇見令你怦然心動的對象，不妨主動一點打個招呼送上微笑。有伴侶的，平時若有不敢說的甜言蜜語，就放膽訴諸網路吧。')\n",
    "else:\n",
    "    print('在這波眾星大退行的影響下，魔羯本週警報連連，不論是對內或對外溝通方面都是狀況百出，有些臨時發生的事件將考驗著你的應變能力，想要尋求助力，也得看你平時的人脈是否有打好根基。和心儀對象約會，最好避免與水有關的地點，像是河堤邊、海邊或遊湖等，很可能會在這些地方發生兩人口角，最後很不浪漫的結束約會。')"
   ]
  },
  {
   "cell_type": "code",
   "execution_count": null,
   "metadata": {},
   "outputs": [],
   "source": []
  }
 ],
 "metadata": {
  "kernelspec": {
   "display_name": "Python 3",
   "language": "python",
   "name": "python3"
  },
  "language_info": {
   "codemirror_mode": {
    "name": "ipython",
    "version": 3
   },
   "file_extension": ".py",
   "mimetype": "text/x-python",
   "name": "python",
   "nbconvert_exporter": "python",
   "pygments_lexer": "ipython3",
   "version": "3.7.3"
  }
 },
 "nbformat": 4,
 "nbformat_minor": 2
}
