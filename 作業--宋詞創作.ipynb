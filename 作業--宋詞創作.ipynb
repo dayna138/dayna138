{
 "cells": [
  {
   "cell_type": "code",
   "execution_count": 1,
   "metadata": {},
   "outputs": [],
   "source": [
    "from IPython.display import HTML"
   ]
  },
  {
   "cell_type": "code",
   "execution_count": 2,
   "metadata": {},
   "outputs": [],
   "source": [
    "song = {1:'往事',21:'一笑',41:'深處',61:'一片',81:'不是', 2:'東風', 22:'黃昏', 42:'時節',62:'桃李',82:'時候',\n",
    "3:'何處',23:'當年', 43:'平生', 63:'人生', 83:'腸斷', 4:'人間', 24:'天涯', 44:'淒涼', 64:'十分', 84:'富貴', \n",
    "5:'風流', 25:'相逢', 45:'春色', 65:'心事', 85:'蓬萊', 6:'歸去', 26:'芳草', 46:'匆匆', 66:'黃花',86:'昨夜', \n",
    "7:'春風', 27:'尊前', 47:'功名', 67:'一聲', 87:'行人', 8:'西風', 28:'一枝', 48:'一點', 68:'佳人', 88:'今夜', \n",
    "9:'歸來', 29:'風雨', 49:'無限', 69:'長安', 89:'誰知', 10:'江南', 30:'流水', 50:'今日', 70:'東君', 90:'不似', \n",
    "11:'相思', 31:'依舊', 51:'天上', 71:'斷腸', 91:'江上', 12:'梅花', 32:'風吹', 52:'楊柳', 72:'而今', 92:'悠悠', \n",
    "13:'千里', 33:'風月', 53:'西湖', 73:'鴛鴦', 93:'幾度', 14:'回首', 34:'多情', 54:'桃花', 74:'為誰', 94:'青山', \n",
    "15:'明月', 35:'故人', 55:'扁舟', 75:'十年', 95:'何時', 16:'多少', 36:'當時', 56:'消息', 76:'去年', 96:'天氣', \n",
    "17:'如今', 37:'無人', 57:'憔悴', 77:'少年', 97:'惟有', 18:'闌干', 38:'斜陽', 58:'何事', 78:'海棠', 98:'一曲', \n",
    "19:'年年', 39:'不知', 59:'芙蓉', 79:'寂寞', 99:'月明', 20:'萬里', 40:'不見', 60:'神仙', 80:'無情'}"
   ]
  },
  {
   "cell_type": "code",
   "execution_count": 3,
   "metadata": {},
   "outputs": [
    {
     "data": {
      "text/html": [
       "<h3 style=\"color:black;\">參考以下範例，選擇一個你喜歡的詞牌，選擇\"如夢令\"請輸入<font color=\"red\">A</font>，選擇\"清平樂\"請輸入<font color=\"red\">B</font>。</h3>"
      ],
      "text/plain": [
       "<IPython.core.display.HTML object>"
      ]
     },
     "metadata": {},
     "output_type": "display_data"
    },
    {
     "data": {
      "text/html": [
       "<I><font color=\"blue\"><h3>如夢令&nbsp&nbsp&nbsp&nbsp李清照</h3><h4>昨夜雨疏風驟，濃睡不消殘酒。<br>試問卷簾人，卻道海棠依舊。<br>知否，知否？應是綠肥紅瘦。</h4><br><h3>清平樂&nbsp&nbsp&nbsp&nbsp李煜</h3><h4>別來春半，觸目愁腸斷。<br>砌下落梅如雪亂，拂了一身還滿。<br>雁來音信無憑，路遙歸夢難成。<br>離恨恰如春草，更行更遠還生。</h4></font></I>"
      ],
      "text/plain": [
       "<IPython.core.display.HTML object>"
      ]
     },
     "metadata": {},
     "output_type": "display_data"
    },
    {
     "name": "stdout",
     "output_type": "stream",
     "text": [
      "A\n",
      "請從1-99中選取15個不同的數字，並以空格隔開每個數字87 45 34 89 23 4 7 90 99 43 12 55 61 31 88\n"
     ]
    }
   ],
   "source": [
    "html_txt='<h3 style=\"color:black;\">參考以下範例，選擇一個你喜歡的詞牌，選擇\"如夢令\"請輸入<font color=\"red\">A</font>，選擇\"清平樂\"請輸入<font color=\"red\">B</font>。</h3>'\n",
    "display(HTML(html_txt))\n",
    "\n",
    "html_txt='<I><font color=\"blue\"><h3>如夢令&nbsp&nbsp&nbsp&nbsp李清照</h3><h4>昨夜雨疏風驟，濃睡不消殘酒。<br>試問卷簾人，卻道海棠依舊。<br>知否，知否？應是綠肥紅瘦。</h4><br><h3>清平樂&nbsp&nbsp&nbsp&nbsp李煜</h3><h4>別來春半，觸目愁腸斷。<br>砌下落梅如雪亂，拂了一身還滿。<br>雁來音信無憑，路遙歸夢難成。<br>離恨恰如春草，更行更遠還生。</h4></font></I>'\n",
    "display(HTML(html_txt))\n",
    "\n",
    "start = input()\n",
    "\n",
    "if start == \"A\":\n",
    "    select = input('請從1-99中選取15個不同的數字，並以空格隔開每個數字')\n",
    "if start == \"B\":\n",
    "    select = input('請從1-99中選取22個不同的數字，並以空格隔開每個數字')"
   ]
  },
  {
   "cell_type": "code",
   "execution_count": 4,
   "metadata": {},
   "outputs": [
    {
     "name": "stdout",
     "output_type": "stream",
     "text": [
      "行人春色多情，\n",
      "誰知當年人間。\n",
      "春風不似空，\n",
      "月明平生梅花。\n",
      "扁舟，扁舟，\n",
      "一片依舊今夜。\n"
     ]
    }
   ],
   "source": [
    "a = list(map(int, select.split()))\n",
    "if start == \"A\":\n",
    "    newsong1 = []\n",
    "    newsong2 = []\n",
    "    newsong3 = []\n",
    "    newsong4 = []\n",
    "    newsong5 = []\n",
    "    newsong6 = []\n",
    "    for i in range(0,3):\n",
    "        newsong1.append(song[a[i]])\n",
    "        n1 = \"\".join(newsong1)\n",
    "    print(n1+\"，\")\n",
    "    for i in range(3,6):\n",
    "        newsong2.append(song[a[i]])\n",
    "        n2 = \"\".join(newsong2)\n",
    "    print(n2+\"。\")\n",
    "    for i in range(6,8):\n",
    "        newsong3.append(song[a[i]])\n",
    "        n3 = \"\".join(newsong3)\n",
    "    print(n3+\"空，\")\n",
    "    for i in range(8,11):\n",
    "        newsong4.append(song[a[i]])\n",
    "        n4 = \"\".join(newsong4)\n",
    "    print(n4+\"。\")\n",
    "    for i in range(11,12):\n",
    "        n5 =song[a[11]]+'，'+song[a[11]]\n",
    "    print(n5+\"，\")\n",
    "    for i in range(12,15):\n",
    "        newsong6.append(song[a[i]])\n",
    "        n6 = \"\".join(newsong6)\n",
    "    print(n6+\"。\")\n",
    "\n",
    "if start == \"B\":\n",
    "    newsong1 = []\n",
    "    newsong2 = []\n",
    "    newsong3 = []\n",
    "    newsong4 = []\n",
    "    newsong5 = []\n",
    "    newsong6 = []\n",
    "    newsong7 = []\n",
    "    newsong8 = []\n",
    "\n",
    "    for i in range(0,2):\n",
    "        newsong1.append(song[a[i]])\n",
    "        n1 = \"\".join(newsong1)\n",
    "    print(n1+\"，\")\n",
    "    for i in range(2,4):\n",
    "        newsong2.append(song[a[i]])\n",
    "        n2 = \"\".join(newsong2)\n",
    "    print(n2+\"空。\")\n",
    "    for i in range(4,7):\n",
    "        newsong3.append(song[a[i]])\n",
    "        n3 = \"\".join(newsong3)\n",
    "    print(n3+\"中，\")\n",
    "    for i in range(7,10):\n",
    "        newsong4.append(song[a[i]])\n",
    "        n4 = \"\".join(newsong4)\n",
    "    print(n4+\"。\")\n",
    "    for i in range(10,13):\n",
    "        newsong5.append(song[a[i]])\n",
    "        n5 = \"\".join(newsong5)\n",
    "    print(n5+\"，\")\n",
    "    for i in range(13,16):\n",
    "        newsong6.append(song[a[i]])\n",
    "        n6 = \"\".join(newsong6)\n",
    "    print(n6+\"。\")\n",
    "    for i in range(16,19):\n",
    "        newsong7.append(song[a[i]])\n",
    "        n7 = \"\".join(newsong7)\n",
    "    print(n7+\"，\")\n",
    "    for i in range(19,22):\n",
    "        newsong8.append(song[a[i]])\n",
    "        n8 = \"\".join(newsong8)\n",
    "    print(n8+\"。\")"
   ]
  },
  {
   "cell_type": "code",
   "execution_count": null,
   "metadata": {},
   "outputs": [],
   "source": []
  }
 ],
 "metadata": {
  "kernelspec": {
   "display_name": "Python 3",
   "language": "python",
   "name": "python3"
  },
  "language_info": {
   "codemirror_mode": {
    "name": "ipython",
    "version": 3
   },
   "file_extension": ".py",
   "mimetype": "text/x-python",
   "name": "python",
   "nbconvert_exporter": "python",
   "pygments_lexer": "ipython3",
   "version": "3.7.3"
  }
 },
 "nbformat": 4,
 "nbformat_minor": 2
}
