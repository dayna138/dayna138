{
 "cells": [
  {
   "cell_type": "code",
   "execution_count": 14,
   "metadata": {},
   "outputs": [
    {
     "name": "stdout",
     "output_type": "stream",
     "text": [
      "----*\n",
      "---***\n",
      "--*****\n",
      "-*******\n",
      "*********\n"
     ]
    }
   ],
   "source": [
    "k=4\n",
    "m=1\n",
    "\n",
    "for i in range(1,5+1):\n",
    "    for j in range(1,k+1):\n",
    "        print(\"-\", end='')\n",
    "    \n",
    "    for j in range(1, m+1):\n",
    "        print(\"*\", end='')\n",
    "    \n",
    "    print()\n",
    "    \n",
    "    k=k-1\n",
    "    m=m+2 # 只有修改此行能增加星星數量"
   ]
  },
  {
   "cell_type": "code",
   "execution_count": 19,
   "metadata": {},
   "outputs": [],
   "source": [
    "def f(a =[] , n=1):\n",
    "    index=0\n",
    "    for i in range(1,n):\n",
    "        if a[i] >= a[index]:\n",
    "            index = i\n",
    "\n",
    "    return index"
   ]
  },
  {
   "cell_type": "code",
   "execution_count": 30,
   "metadata": {},
   "outputs": [
    {
     "data": {
      "text/plain": [
       "7"
      ]
     },
     "execution_count": 30,
     "metadata": {},
     "output_type": "execute_result"
    }
   ],
   "source": [
    "L=[1,3,9,2,5,8,4,9,6,7]\n",
    "f(L,10)"
   ]
  },
  {
   "cell_type": "code",
   "execution_count": null,
   "metadata": {},
   "outputs": [],
   "source": []
  }
 ],
 "metadata": {
  "kernelspec": {
   "display_name": "Python 3",
   "language": "python",
   "name": "python3"
  }
 },
 "nbformat": 4,
 "nbformat_minor": 2
}
