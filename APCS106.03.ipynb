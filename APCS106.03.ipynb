{
 "cells": [
  {
   "cell_type": "markdown",
   "metadata": {},
   "source": [
    "## 第六題"
   ]
  },
  {
   "cell_type": "code",
   "execution_count": 7,
   "metadata": {},
   "outputs": [
    {
     "name": "stdout",
     "output_type": "stream",
     "text": [
      "The sum of row 0 is 3.\n",
      "The sum of row 1 is 7.\n",
      "The sum of row 2 is 11.\n"
     ]
    }
   ],
   "source": [
    "def main(A = [[]]):\n",
    "    M = len(A)\n",
    "    N = len(A[0])\n",
    "\n",
    "#  rowsum = 0\n",
    "    for i in range(M):\n",
    "        rowsum=0\n",
    "        for j in range(N):\n",
    "            rowsum = rowsum + A[i][j]\n",
    "        print(f\"The sum of row {i} is {rowsum}.\")\n",
    "    \n",
    "#  print(f\"The sum of row {i} is {rowsum}.\")\n",
    "\n",
    "B = [[1,2],[3,4],[5,6]]\n",
    "\n",
    "main(B)"
   ]
  },
  {
   "cell_type": "markdown",
   "metadata": {},
   "source": [
    "## 第八題"
   ]
  },
  {
   "cell_type": "code",
   "execution_count": 5,
   "metadata": {},
   "outputs": [
    {
     "data": {
      "text/plain": [
       "2"
      ]
     },
     "execution_count": 5,
     "metadata": {},
     "output_type": "execute_result"
    }
   ],
   "source": []
  },
  {
   "cell_type": "markdown",
   "metadata": {},
   "source": [
    "## 105.03 第十七題"
   ]
  },
  {
   "cell_type": "markdown",
   "metadata": {},
   "source": [
    "## 錯誤：原始程式碼"
   ]
  },
  {
   "cell_type": "code",
   "execution_count": 2,
   "metadata": {},
   "outputs": [
    {
     "name": "stdout",
     "output_type": "stream",
     "text": [
      "11 12 13 14 25 20\n",
      "20 is the smallest.\n"
     ]
    }
   ],
   "source": [
    "six = input()\n",
    "s2=list(map(int,six.split()))\n",
    "\n",
    "for i in range(0,5):\n",
    "    if s2[i] > s2[5]:\n",
    "        allBig = True\n",
    "    else:\n",
    "        allBig = False\n",
    "\n",
    "if allBig == True:\n",
    "    print(f\"{s2[5]} is the smallest.\")\n",
    "else:\n",
    "    print(f\"{s2[5]} is not the smallest.\")"
   ]
  },
  {
   "cell_type": "code",
   "execution_count": null,
   "metadata": {},
   "outputs": [],
   "source": [
    "six = input()\n",
    "s2=list(map(int,six.split()))\n",
    "\n",
    "for i in range(0,5):\n",
    "    if s2[i] > s2[5]:\n",
    "        allBig = True\n",
    "    else:\n",
    "        allBig = False\n",
    "\n",
    "if allBig == True:\n",
    "    print(f\"{s2[5]} is the smallest.\")\n",
    "else:\n",
    "    print(f\"{s2[5]} is not the smallest.\")"
   ]
  },
  {
   "cell_type": "code",
   "execution_count": null,
   "metadata": {},
   "outputs": [],
   "source": [
    "s2"
   ]
  },
  {
   "cell_type": "markdown",
   "metadata": {},
   "source": [
    "## 正確程式碼"
   ]
  },
  {
   "cell_type": "code",
   "execution_count": null,
   "metadata": {},
   "outputs": [],
   "source": [
    "six = input()\n",
    "s2=list(map(int,six.split()))\n",
    "\n",
    "for i in range(0,5):\n",
    "    if s2[i] < s2[5]:\n",
    "        allBig = False\n",
    "        break\n",
    "    else:\n",
    "        allBig = True\n",
    "\n",
    "if allBig == True:\n",
    "    print(f\"{s2[5]} is the smallest.\")\n",
    "else:\n",
    "    print(f\"{s2[5]} is not the smallest.\")"
   ]
  },
  {
   "cell_type": "code",
   "execution_count": null,
   "metadata": {},
   "outputs": [],
   "source": []
  }
 ],
 "metadata": {
  "kernelspec": {
   "display_name": "Python 3",
   "language": "python",
   "name": "python3"
  },
  "language_info": {
   "codemirror_mode": {
    "name": "ipython",
    "version": 3
   },
   "file_extension": ".py",
   "mimetype": "text/x-python",
   "name": "python",
   "nbconvert_exporter": "python",
   "pygments_lexer": "ipython3",
   "version": "3.7.3"
  }
 },
 "nbformat": 4,
 "nbformat_minor": 2
}
