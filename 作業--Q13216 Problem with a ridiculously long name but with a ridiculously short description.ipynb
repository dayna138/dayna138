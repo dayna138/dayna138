{
 "cells": [
  {
   "cell_type": "code",
   "execution_count": 1,
   "metadata": {},
   "outputs": [
    {
     "name": "stdout",
     "output_type": "stream",
     "text": [
      "4\n",
      "0\n",
      "1\n",
      "1\n",
      "66\n",
      "2\n",
      "56\n",
      "9999999999999999999999\n",
      "36\n"
     ]
    }
   ],
   "source": [
    "ans=[76,16,56,96,36]\n",
    "testcase=int(input())\n",
    "\n",
    "while testcase>0:\n",
    "    testcase=testcase-1\n",
    "    n=int(input())\n",
    "    if n==0:\n",
    "        print(1)\n",
    "    elif n==1:\n",
    "        print(66)\n",
    "    else:\n",
    "        print(ans[n%5])\n"
   ]
  }
 ],
 "metadata": {
  "kernelspec": {
   "display_name": "Python 3",
   "language": "python",
   "name": "python3"
  },
  "language_info": {
   "codemirror_mode": {
    "name": "ipython",
    "version": 3
   },
   "file_extension": ".py",
   "mimetype": "text/x-python",
   "name": "python",
   "nbconvert_exporter": "python",
   "pygments_lexer": "ipython3",
   "version": "3.7.3"
  }
 },
 "nbformat": 4,
 "nbformat_minor": 2
}
