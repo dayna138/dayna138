{
 "cells": [
  {
   "cell_type": "code",
   "execution_count": 1,
   "metadata": {},
   "outputs": [],
   "source": [
    "from random import randint"
   ]
  },
  {
   "cell_type": "code",
   "execution_count": 2,
   "metadata": {},
   "outputs": [],
   "source": [
    "from ipywidgets import interact_manual"
   ]
  },
  {
   "cell_type": "code",
   "execution_count": 3,
   "metadata": {},
   "outputs": [],
   "source": [
    "def idproducer(city, gender):\n",
    "    c2={'臺北市(A)':'A','臺中市(B)':'B','基隆市(C)':'C','臺南市(D)':'D','高雄市(E)':'E','新北市(F)':'F','宜蘭縣(G)':'G','桃園縣(H)':'H','新竹縣(J)':'J','苗栗縣(K)':'K','臺中縣(L)':'L','南投縣(M)':'M','彰化縣(N)':'N','雲林縣(P)':'P','嘉義縣(Q)':'Q','臺南縣(R)':'R','高雄縣(S)':'S','屏東縣(T)':'T','花蓮縣(U)':'U','臺東縣(V)':'V','澎湖縣(X)':'X','陽明山(Y)':'Y','金門縣(W)':'W','連江縣(Z)':'Z','嘉義市(I)':'I','新竹市(O)':'O'}\n",
    "    g2={'男(1)':'1','女(2)':'2'}\n",
    "    \n",
    "    \n",
    "    \n",
    "    if g2[gender]=='1':\n",
    "        randomnum=randint(10000000,19999999)\n",
    "        r1=randomnum\n",
    "        r11=str(r1)\n",
    "        r1result = list(map(int, list(r11)))\n",
    "        \n",
    "        s=0\n",
    "        for a in range(0,8):\n",
    "            s=s+r1result[a]*(8-a)\n",
    "        \n",
    "        \n",
    "        \n",
    "    elif g2[gender]=='2':\n",
    "        randomnum=randint(20000000,29999999)\n",
    "        r2=randomnum\n",
    "        r22=str(r2)\n",
    "        r2result = list(map(int, list(r22)))\n",
    "        \n",
    "        s=0\n",
    "        for a in range(0,8):\n",
    "            s=s+r2result[a]*(8-a)\n",
    "    \n",
    "\n",
    "    \n",
    "    if c2[city]=='A':\n",
    "        s=s+1\n",
    "    elif c2[city]=='B':\n",
    "        s=s+10\n",
    "    elif c2[city]=='C':\n",
    "        s=s+19\n",
    "    elif c2[city]=='D':\n",
    "        s=s+28\n",
    "    elif c2[city]=='E':\n",
    "        s=s+37\n",
    "    elif c2[city]=='F':\n",
    "        s=s+46\n",
    "    elif c2[city]=='G':\n",
    "        s=s+55\n",
    "    elif c2[city]=='H':\n",
    "        s=s+64\n",
    "    elif c2[city]=='I':\n",
    "        s=s+39\n",
    "    elif c2[city]=='J':\n",
    "        s=s+73\n",
    "    elif c2[city]=='K':\n",
    "        s=s+82\n",
    "    elif c2[city]=='L':\n",
    "        s=s+2\n",
    "    elif c2[city]=='M':\n",
    "        s=s+11\n",
    "    elif c2[city]=='N':\n",
    "        s=s+20\n",
    "    elif c2[city]=='O':\n",
    "        s=s+48\n",
    "    elif c2[city]=='P':\n",
    "        s=s+29\n",
    "    elif c2[city]=='Q':\n",
    "        s=s+38\n",
    "    elif c2[city]=='R':\n",
    "        s=s+47\n",
    "    elif c2[city]=='S':\n",
    "        s=s+56\n",
    "    elif c2[city]=='T':\n",
    "        s=s+65\n",
    "    elif c2[city]=='U':\n",
    "        s=s+74\n",
    "    elif c2[city]=='V':\n",
    "        s=s+83\n",
    "    elif c2[city]=='W':\n",
    "        s=s+21\n",
    "    elif c2[city]=='X':\n",
    "        s=s+3\n",
    "    elif c2[city]=='Y':\n",
    "        s=s+12\n",
    "    elif c2[city]=='Z':\n",
    "        s=s+30\n",
    "    else:\n",
    "        s=s+0\n",
    "\n",
    "\n",
    "    ninth=10-s%10\n",
    "    \n",
    "    if g2[gender]=='1':\n",
    "        print(c2[city]+r11+str(ninth))\n",
    "    elif g2[gender]=='2':\n",
    "        print(c2[city]+r22+str(ninth))\n",
    "    "
   ]
  },
  {
   "cell_type": "code",
   "execution_count": 4,
   "metadata": {},
   "outputs": [
    {
     "data": {
      "application/vnd.jupyter.widget-view+json": {
       "model_id": "f7ba5f1761a546748eec8d5131f555bb",
       "version_major": 2,
       "version_minor": 0
      },
      "text/plain": [
       "interactive(children=(Dropdown(description='city', options=('嘉義縣(Q)', '宜蘭縣(G)', '南投縣(M)', '花蓮縣(U)', '臺中縣(L)', …"
      ]
     },
     "metadata": {},
     "output_type": "display_data"
    }
   ],
   "source": [
    "interact_manual(idproducer, city={'臺北市(A)','臺中市(B)','基隆市(C)','臺南市(D)','高雄市(E)','新北市(F)','宜蘭縣(G)','桃園縣(H)','新竹縣(J)','苗栗縣(K)','臺中縣(L)','南投縣(M)','彰化縣(N)','雲林縣(P)','嘉義縣(Q)','臺南縣(R)','高雄縣(S)','屏東縣(T)','花蓮縣(U)','臺東縣(V)','澎湖縣(X)','陽明山(Y)','金門縣(W)','連江縣(Z)','嘉義市(I)','新竹市(O)'}, gender={'男(1)','女(2)'});"
   ]
  },
  {
   "cell_type": "code",
   "execution_count": null,
   "metadata": {},
   "outputs": [],
   "source": []
  }
 ],
 "metadata": {
  "kernelspec": {
   "display_name": "Python 3",
   "language": "python",
   "name": "python3"
  },
  "language_info": {
   "codemirror_mode": {
    "name": "ipython",
    "version": 3
   },
   "file_extension": ".py",
   "mimetype": "text/x-python",
   "name": "python",
   "nbconvert_exporter": "python",
   "pygments_lexer": "ipython3",
   "version": "3.7.3"
  }
 },
 "nbformat": 4,
 "nbformat_minor": 2
}
